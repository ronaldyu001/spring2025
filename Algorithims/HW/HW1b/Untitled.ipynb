{
 "cells": [
  {
   "cell_type": "markdown",
   "id": "e2f6b863-9a9e-4387-9e3b-a68d4d41c8e1",
   "metadata": {
    "vscode": {
     "languageId": "python"
    }
   },
   "source": [
    "# Q1: Number Guessing Game using Binary Search\n"
   ]
  },
  {
   "cell_type": "code",
   "execution_count": null,
   "id": "f08ae77d",
   "metadata": {
    "vscode": {
     "languageId": "python"
    }
   },
   "outputs": [],
   "source": []
  }
 ],
 "metadata": {
  "kernelspec": {
   "display_name": "Python 3 (ipykernel)",
   "language": "python",
   "name": "python3"
  },
  "language_info": {
   "codemirror_mode": {
    "name": "ipython",
    "version": 3
   },
   "file_extension": ".py",
   "mimetype": "text/x-python",
   "name": "python",
   "nbconvert_exporter": "python",
   "pygments_lexer": "ipython3",
   "version": "3.12.6"
  }
 },
 "nbformat": 4,
 "nbformat_minor": 5
}
