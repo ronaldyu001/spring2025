{
 "cells": [
  {
   "cell_type": "markdown",
   "id": "6cafecc7-519d-405a-891d-cc4125ac5184",
   "metadata": {},
   "source": [
    "# Program asks for number. User enters a number."
   ]
  },
  {
   "cell_type": "markdown",
   "id": "f79068ad",
   "metadata": {},
   "source": [
    "Enter a number between 1 and 25: 3"
   ]
  },
  {
   "cell_type": "markdown",
   "id": "ea605e3b-17ed-4eb7-947a-b0cda093e544",
   "metadata": {},
   "source": [
    "# Program asks for a message. User enters a message."
   ]
  },
  {
   "cell_type": "markdown",
   "id": "f43d57ea-ba37-4d34-8e9a-0eb217bf993c",
   "metadata": {},
   "source": [
    "Enter a message to encrypt: Hello, CSCI 3412 Students!"
   ]
  },
  {
   "cell_type": "markdown",
   "id": "b6e92154-fb97-4c06-9e23-62a3a0eb01b2",
   "metadata": {},
   "source": [
    "# Program outputs the encrypted message."
   ]
  },
  {
   "cell_type": "markdown",
   "id": "81962345-52e6-4a30-b87d-79561b2f7bc7",
   "metadata": {},
   "source": [
    "Encrypted Message: Khoor, FVFL 6745 Vwxghqwv!"
   ]
  },
  {
   "cell_type": "markdown",
   "id": "d3b4000e-a899-4385-8e13-0342b28c5956",
   "metadata": {},
   "source": [
    "# Program outputs the decrypted message."
   ]
  },
  {
   "cell_type": "markdown",
   "id": "390697c5-e21f-4c4b-8270-33469877ed46",
   "metadata": {},
   "source": [
    "Decrypted Message: Hello, CSCI 3412 Students!"
   ]
  }
 ],
 "metadata": {
  "kernelspec": {
   "display_name": "Python 3 (ipykernel)",
   "language": "python",
   "name": "python3"
  },
  "language_info": {
   "codemirror_mode": {
    "name": "ipython",
    "version": 3
   },
   "file_extension": ".py",
   "mimetype": "text/x-python",
   "name": "python",
   "nbconvert_exporter": "python",
   "pygments_lexer": "ipython3",
   "version": "3.12.6"
  }
 },
 "nbformat": 4,
 "nbformat_minor": 5
}
