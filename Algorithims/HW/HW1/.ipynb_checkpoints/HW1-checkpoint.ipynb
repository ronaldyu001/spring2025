{
 "cells": [
  {
   "cell_type": "markdown",
   "id": "6cafecc7-519d-405a-891d-cc4125ac5184",
   "metadata": {},
   "source": []
  },
  {
   "cell_type": "code",
   "execution_count": null,
   "id": "ec9543a9",
   "metadata": {
    "vscode": {
     "languageId": "plaintext"
    }
   },
   "outputs": [],
   "source": [
    "# function to decode encrypted message. needs the encrypted message and number shifted as inputs.\n",
    "def decoder(encrypted_message, shift_number):\n",
    "    \n",
    "    # decode each letter by shifting back\n",
    "    decoded_message = ''\n",
    "\n",
    "    for letter in encrypted_message:\n",
    "        if(letter != ' '):\n",
    "            decoded_letter = chr(ord(letter) - shift_number)\n",
    "        \n",
    "        decoded_message += decoded_letter\n",
    "        decoded_letter = ' '\n",
    "\n",
    "    print(f'Decrypted Message: {decoded_message}')\n",
    "\n",
    "\n",
    "\n",
    "if __name__ == \"__main__\":\n",
    "\n",
    "    # get user input (number 1-25)\n",
    "    while(1):\n",
    "        number = int(input(\"Enter a number between 1 and 25: \"))\n",
    "\n",
    "        if(number < 1 or number > 25):\n",
    "            print(f'{number} is not between 1 and 25')\n",
    "        else:\n",
    "            break;\n",
    "\n",
    "    # get string from user\n",
    "    message = input(\"Enter a message to encrypted: \")\n",
    "\n",
    "    # shift each letter ascii value in \"message\" by the \"number\" and put in \"encrypted_array\"\n",
    "    encrypted_array = []\n",
    "\n",
    "    for letter in message:\n",
    "        if(letter != ' '):\n",
    "            shifted_letter = chr(ord(letter) + number)\n",
    "            \n",
    "        encrypted_array.append(shifted_letter)\n",
    "        shifted_letter = ' '\n",
    "\n",
    "    # convert \"encrypted_array\" to a string \"encrypted_message\"\n",
    "    encrypted_message = ''\n",
    "\n",
    "    for letter in encrypted_array:\n",
    "        encrypted_message += letter\n",
    "\n",
    "    print(f'Encrypted Message: {encrypted_message}')\n",
    "\n",
    "    # decode message\n",
    "    decoder(encrypted_message, number)"
   ]
  }
 ],
 "metadata": {
  "kernelspec": {
   "display_name": "Python 3 (ipykernel)",
   "language": "python",
   "name": "python3"
  },
  "language_info": {
   "codemirror_mode": {
    "name": "ipython",
    "version": 3
   },
   "file_extension": ".py",
   "mimetype": "text/x-python",
   "name": "python",
   "nbconvert_exporter": "python",
   "pygments_lexer": "ipython3",
   "version": "3.12.6"
  }
 },
 "nbformat": 4,
 "nbformat_minor": 5
}
