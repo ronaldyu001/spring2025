{
 "cells": [
  {
   "cell_type": "markdown",
   "id": "6cafecc7-519d-405a-891d-cc4125ac5184",
   "metadata": {},
   "source": []
  },
  {
   "cell_type": "markdown",
   "id": "f79068ad",
   "metadata": {},
   "source": [
    "Enter a number between 1 and 25: 3\n",
    "Enter a message to encrypt: Hello, CSCI 3412 Students!\n",
    "Encrypted Message: Khoor, FVFL 6745 Vwxghqwv!\n",
    "Decrypted Message: Hello, CSCI 3412 Students!"
   ]
  }
 ],
 "metadata": {
  "kernelspec": {
   "display_name": "Python 3 (ipykernel)",
   "language": "python",
   "name": "python3"
  },
  "language_info": {
   "codemirror_mode": {
    "name": "ipython",
    "version": 3
   },
   "file_extension": ".py",
   "mimetype": "text/x-python",
   "name": "python",
   "nbconvert_exporter": "python",
   "pygments_lexer": "ipython3",
   "version": "3.12.6"
  }
 },
 "nbformat": 4,
 "nbformat_minor": 5
}
